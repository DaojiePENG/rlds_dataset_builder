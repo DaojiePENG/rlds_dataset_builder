{
 "cells": [
  {
   "cell_type": "markdown",
   "id": "475a2c63",
   "metadata": {},
   "source": [
    "## 0. View the LeRobot Dataset"
   ]
  },
  {
   "cell_type": "markdown",
   "id": "6ce95a3a",
   "metadata": {},
   "source": [
    "Note that we use two different envs for the conversion. One for LeRobot dataset->.npy using lerobot lerobot env; another for .npy->RLDS using rlds env.\n",
    "\n",
    "This two-steps process is necessary because the two envs can hardly be compactable to each other.\n",
    "\n",
    "Setup the `lerobot` env following the [lerobot repository](https://github.com/huggingface/lerobot/tree/main)."
   ]
  },
  {
   "cell_type": "code",
   "execution_count": 4,
   "id": "6e80c5eb",
   "metadata": {},
   "outputs": [
    {
     "name": "stdout",
     "output_type": "stream",
     "text": [
      "Selected episodes: [3, 4, 5]\n",
      "Number of episodes selected: 3\n",
      "Number of frames selected: 25460854\n",
      "LeRobotDatasetMetadata({\n",
      "    Repository ID: 'lerobot/droid_1.0.1',\n",
      "    Total episodes: '95617',\n",
      "    Total frames: '27618651',\n",
      "    Features: '['is_first', 'is_last', 'is_terminal', 'language_instruction', 'language_instruction_2', 'language_instruction_3', 'observation.state.gripper_position', 'observation.state.cartesian_position', 'observation.state.joint_position', 'observation.state', 'observation.images.wrist_left', 'observation.images.exterior_1_left', 'observation.images.exterior_2_left', 'action.gripper_position', 'action.gripper_velocity', 'action.cartesian_position', 'action.cartesian_velocity', 'action.joint_position', 'action.joint_velocity', 'action.original', 'action', 'discount', 'reward', 'task_category', 'building', 'collector_id', 'date', 'camera_extrinsics.wrist_left', 'camera_extrinsics.exterior_1_left', 'camera_extrinsics.exterior_2_left', 'is_episode_successful', 'timestamp', 'frame_index', 'episode_index', 'index', 'task_index']',\n",
      "})',\n",
      "\n"
     ]
    }
   ],
   "source": [
    "from pprint import pprint\n",
    "\n",
    "import torch\n",
    "from huggingface_hub import HfApi\n",
    "\n",
    "import lerobot\n",
    "from lerobot.datasets.lerobot_dataset import LeRobotDataset, LeRobotDatasetMetadata\n",
    "\n",
    "# Let's take this one for this example\n",
    "repo_id = \"lerobot/droid_1.0.1\"\n",
    "dataset = LeRobotDataset(repo_id, episodes=list(range(3, 6)))\n",
    "print(f\"Selected episodes: {dataset.episodes}\")\n",
    "print(f\"Number of episodes selected: {dataset.num_episodes}\")\n",
    "print(f\"Number of frames selected: {dataset.num_frames}\")\n",
    "# The previous metadata class is contained in the 'meta' attribute of the dataset:\n",
    "print(dataset.meta)"
   ]
  },
  {
   "cell_type": "markdown",
   "id": "798ed5d3",
   "metadata": {},
   "source": [
    "## 1. Use uni-file for conversion for all features"
   ]
  },
  {
   "cell_type": "code",
   "execution_count": 8,
   "id": "a83d203d",
   "metadata": {},
   "outputs": [
    {
     "name": "stdout",
     "output_type": "stream",
     "text": [
      "Loading dataset: lerobot/droid_1.0.1\n",
      "Selected episodes: [0, 1, 2, 3, 4]\n",
      "Number of episodes to convert: 5\n",
      "Total frames to convert: 25460854\n",
      "Detected features: ['is_first', 'is_last', 'is_terminal', 'language_instruction', 'language_instruction_2', 'language_instruction_3', 'observation.state.gripper_position', 'observation.state.cartesian_position', 'observation.state.joint_position', 'observation.state', 'observation.images.wrist_left', 'observation.images.exterior_1_left', 'observation.images.exterior_2_left', 'action.gripper_position', 'action.gripper_velocity', 'action.cartesian_position', 'action.cartesian_velocity', 'action.joint_position', 'action.joint_velocity', 'action.original', 'action', 'discount', 'reward', 'task_category', 'building', 'collector_id', 'date', 'camera_extrinsics.wrist_left', 'camera_extrinsics.exterior_1_left', 'camera_extrinsics.exterior_2_left', 'is_episode_successful', 'timestamp', 'frame_index', 'episode_index', 'index', 'task_index']\n"
     ]
    },
    {
     "name": "stderr",
     "output_type": "stream",
     "text": [
      "Converting episodes:   0%|          | 0/5 [00:00<?, ?it/s]"
     ]
    },
    {
     "name": "stdout",
     "output_type": "stream",
     "text": [
      "\n",
      "Processing episode 0 (frames: 167)\n"
     ]
    },
    {
     "name": "stderr",
     "output_type": "stream",
     "text": [
      "Converting episodes:  20%|██        | 1/5 [00:01<00:05,  1.29s/it]"
     ]
    },
    {
     "name": "stdout",
     "output_type": "stream",
     "text": [
      "Saved episode 0 to data/lerobot/droid_1.0.1/episode_0.npy\n",
      "\n",
      "Processing episode 1 (frames: 266)\n"
     ]
    },
    {
     "name": "stderr",
     "output_type": "stream",
     "text": [
      "Converting episodes:  40%|████      | 2/5 [00:03<00:05,  1.89s/it]"
     ]
    },
    {
     "name": "stdout",
     "output_type": "stream",
     "text": [
      "Saved episode 1 to data/lerobot/droid_1.0.1/episode_1.npy\n",
      "\n",
      "Processing episode 2 (frames: 411)\n"
     ]
    },
    {
     "name": "stderr",
     "output_type": "stream",
     "text": [
      "Converting episodes:  60%|██████    | 3/5 [00:06<00:04,  2.38s/it]"
     ]
    },
    {
     "name": "stdout",
     "output_type": "stream",
     "text": [
      "Saved episode 2 to data/lerobot/droid_1.0.1/episode_2.npy\n",
      "\n",
      "Processing episode 3 (frames: 239)\n"
     ]
    },
    {
     "name": "stderr",
     "output_type": "stream",
     "text": [
      "Converting episodes:  80%|████████  | 4/5 [00:08<00:02,  2.24s/it]"
     ]
    },
    {
     "name": "stdout",
     "output_type": "stream",
     "text": [
      "Saved episode 3 to data/lerobot/droid_1.0.1/episode_3.npy\n",
      "\n",
      "Processing episode 4 (frames: 370)\n"
     ]
    },
    {
     "name": "stderr",
     "output_type": "stream",
     "text": [
      "Converting episodes: 100%|██████████| 5/5 [00:11<00:00,  2.32s/it]"
     ]
    },
    {
     "name": "stdout",
     "output_type": "stream",
     "text": [
      "Saved episode 4 to data/lerobot/droid_1.0.1/episode_4.npy\n",
      "\n",
      "Successfully converted dataset to data/lerobot/droid_1.0.1\n"
     ]
    },
    {
     "name": "stderr",
     "output_type": "stream",
     "text": [
      "\n"
     ]
    }
   ],
   "source": [
    "import os\n",
    "import numpy as np\n",
    "import tqdm\n",
    "import torch\n",
    "from lerobot.datasets.lerobot_dataset import LeRobotDataset\n",
    "\n",
    "\n",
    "def convert_lerobot_to_npy(repo_id, output_dir=None, episodes=None):\n",
    "    \"\"\"\n",
    "    将LeRobot格式的数据集转换为.npy格式文件，支持选择特定episode\n",
    "    \n",
    "    Args:\n",
    "        repo_id: LeRobot数据集名称\n",
    "        output_dir: 保存路径，默认为f\"data/{repo_id}\"\n",
    "        episodes: 要转换的episode索引列表，如[0,1,2]，默认转换所有episode\n",
    "    \"\"\"\n",
    "    # 设置输出目录\n",
    "    if output_dir is None:\n",
    "        output_dir = f\"data/{repo_id}\"\n",
    "    os.makedirs(output_dir, exist_ok=True)\n",
    "    \n",
    "    # 加载数据集（支持选择特定episode）\n",
    "    print(f\"Loading dataset: {repo_id}\")\n",
    "    dataset = LeRobotDataset(repo_id, episodes=episodes)\n",
    "    selected_episodes = dataset.episodes\n",
    "    print(f\"Selected episodes: {selected_episodes}\")\n",
    "    print(f\"Number of episodes to convert: {dataset.num_episodes}\")\n",
    "    print(f\"Total frames to convert: {dataset.num_frames}\")\n",
    "    \n",
    "    # 获取所有特征\n",
    "    features = list(dataset.features.keys())\n",
    "    print(f\"Detected features: {features}\")\n",
    "    \n",
    "    # 转换每个selected episode\n",
    "    for episode_idx in tqdm.tqdm(selected_episodes, desc=\"Converting episodes\"):\n",
    "        # 获取当前episode的起止帧索引\n",
    "        from_idx = dataset.meta.episodes[\"dataset_from_index\"][episode_idx]\n",
    "        to_idx = dataset.meta.episodes[\"dataset_to_index\"][episode_idx]\n",
    "        episode_length = to_idx - from_idx\n",
    "        print(f\"\\nProcessing episode {episode_idx} (frames: {episode_length})\")\n",
    "        \n",
    "        # 构建episode数据列表\n",
    "        episode_data = []\n",
    "        for frame_idx in tqdm.tqdm(range(from_idx, to_idx), desc=f\"Episode {episode_idx} frames\", leave=False):\n",
    "            frame = dataset[frame_idx]\n",
    "            frame_data = {}\n",
    "            \n",
    "            # 提取所有特征\n",
    "            for feature in features:\n",
    "                try:\n",
    "                    # 处理张量类型（转为numpy数组）\n",
    "                    if isinstance(frame[feature], torch.Tensor):\n",
    "                        frame_data[feature] = frame[feature].cpu().numpy()\n",
    "                    else:\n",
    "                        frame_data[feature] = frame[feature]\n",
    "                except (KeyError, AttributeError) as e:\n",
    "                    print(f\"Warning: Could not access feature {feature} in frame {frame_idx}: {e}\")\n",
    "                    continue\n",
    "            \n",
    "            episode_data.append(frame_data)\n",
    "        \n",
    "        # 保存为npy文件\n",
    "        save_path = os.path.join(output_dir, f\"episode_{episode_idx}.npy\")\n",
    "        np.save(save_path, episode_data)\n",
    "        print(f\"Saved episode {episode_idx} to {save_path}\")\n",
    "    \n",
    "    print(f\"\\nSuccessfully converted dataset to {output_dir}\")\n",
    "\n",
    "\n",
    "if __name__ == \"__main__\":\n",
    "    # 示例用法\n",
    "    repo_id = \"lerobot/droid_1.0.1\"\n",
    "    \n",
    "    # 示例1：转换指定的episode（如0,10,11,23）\n",
    "    convert_lerobot_to_npy(repo_id, episodes=list(range(0, 5)))\n",
    "    \n",
    "    # 示例2：转换所有episode（不指定episodes参数）\n",
    "    # convert_lerobot_to_npy(repo_id)\n",
    "    \n",
    "    # 示例3：指定输出目录\n",
    "    # convert_lerobot_to_npy(repo_id, output_dir=\"custom_output_dir\", episodes=list(range(5)))"
   ]
  },
  {
   "cell_type": "markdown",
   "id": "b0ae2002",
   "metadata": {},
   "source": [
    "### 1.1 then run the tfds build commands\n",
    "\n",
    "```bash\n",
    "cd rlds_dataset_builder/le_robot_to_rlds\n",
    "tfds build --overwrite\n",
    "```\n",
    "\n",
    "The results will be saved to `~/tensorflow_datasets/le_robot_to_rlds`. To visualize the results:\n",
    "\n",
    "```bash\n",
    "cd rlds_dataset_builder\n",
    "python3 visualize_dataset.py le_robot_to_rlds\n",
    "```\n",
    "\n",
    "\n"
   ]
  },
  {
   "cell_type": "markdown",
   "id": "64df7c11",
   "metadata": {},
   "source": [
    "## 2. Use class API for conversion for desired features"
   ]
  },
  {
   "cell_type": "code",
   "execution_count": 1,
   "id": "ec6efbc5",
   "metadata": {},
   "outputs": [
    {
     "name": "stderr",
     "output_type": "stream",
     "text": [
      "/home/daojie/anaconda3/envs/lerobot/lib/python3.10/site-packages/tqdm/auto.py:21: TqdmWarning: IProgress not found. Please update jupyter and ipywidgets. See https://ipywidgets.readthedocs.io/en/stable/user_install.html\n",
      "  from .autonotebook import tqdm as notebook_tqdm\n"
     ]
    },
    {
     "name": "stdout",
     "output_type": "stream",
     "text": [
      "=== Using default feature extractor ===\n",
      "\n",
      "=== Using custom feature extractor ===\n"
     ]
    }
   ],
   "source": [
    "from lerobot_to_npy_converter import LeRobotToNPYConverter, CustomFeatureConverter\n",
    "\n",
    "# 示例1：使用默认特征提取器\n",
    "print(\"=== Using default feature extractor ===\")\n",
    "converter = LeRobotToNPYConverter(\n",
    "    repo_id=\"lerobot/droid_1.0.1\",\n",
    "    episodes=list(range(0, 3))  # 转换前3个episode\n",
    ")\n",
    "\n",
    "# 示例2：使用自定义特征提取器\n",
    "print(\"\\n=== Using custom feature extractor ===\")\n",
    "custom_converter = CustomFeatureConverter(\n",
    "    repo_id=\"lerobot/droid_1.0.1\",\n",
    "    output_dir=\"data/custom_droid_features\",  # 自定义输出目录\n",
    "    episodes=list(range(3, 5))  # 转换第3-4个episode\n",
    ")\n"
   ]
  },
  {
   "cell_type": "code",
   "execution_count": 2,
   "id": "c72b2eb7",
   "metadata": {},
   "outputs": [],
   "source": [
    "# converter.load_dataset()\n",
    "# converter.convert_and_save()\n"
   ]
  },
  {
   "cell_type": "code",
   "execution_count": 3,
   "id": "a80d65ea",
   "metadata": {},
   "outputs": [
    {
     "name": "stdout",
     "output_type": "stream",
     "text": [
      "Loading dataset: lerobot/droid_1.0.1\n",
      "Selected episodes: [3, 4]\n",
      "Number of episodes selected: 2\n",
      "Total frames selected: 25460854\n",
      "All available features in dataset:\n",
      "  1. is_first\n",
      "  2. is_last\n",
      "  3. is_terminal\n",
      "  4. language_instruction\n",
      "  5. language_instruction_2\n",
      "  6. language_instruction_3\n",
      "  7. observation.state.gripper_position\n",
      "  8. observation.state.cartesian_position\n",
      "  9. observation.state.joint_position\n",
      "  10. observation.state\n",
      "  11. observation.images.wrist_left\n",
      "  12. observation.images.exterior_1_left\n",
      "  13. observation.images.exterior_2_left\n",
      "  14. action.gripper_position\n",
      "  15. action.gripper_velocity\n",
      "  16. action.cartesian_position\n",
      "  17. action.cartesian_velocity\n",
      "  18. action.joint_position\n",
      "  19. action.joint_velocity\n",
      "  20. action.original\n",
      "  21. action\n",
      "  22. discount\n",
      "  23. reward\n",
      "  24. task_category\n",
      "  25. building\n",
      "  26. collector_id\n",
      "  27. date\n",
      "  28. camera_extrinsics.wrist_left\n",
      "  29. camera_extrinsics.exterior_1_left\n",
      "  30. camera_extrinsics.exterior_2_left\n",
      "  31. is_episode_successful\n",
      "  32. timestamp\n",
      "  33. frame_index\n",
      "  34. episode_index\n",
      "  35. index\n",
      "  36. task_index\n"
     ]
    },
    {
     "data": {
      "text/plain": [
       "LeRobotDataset({\n",
       "    Repository ID: 'lerobot/droid_1.0.1',\n",
       "    Number of selected episodes: '2',\n",
       "    Number of selected samples: '25460854',\n",
       "    Features: '['is_first', 'is_last', 'is_terminal', 'language_instruction', 'language_instruction_2', 'language_instruction_3', 'observation.state.gripper_position', 'observation.state.cartesian_position', 'observation.state.joint_position', 'observation.state', 'observation.images.wrist_left', 'observation.images.exterior_1_left', 'observation.images.exterior_2_left', 'action.gripper_position', 'action.gripper_velocity', 'action.cartesian_position', 'action.cartesian_velocity', 'action.joint_position', 'action.joint_velocity', 'action.original', 'action', 'discount', 'reward', 'task_category', 'building', 'collector_id', 'date', 'camera_extrinsics.wrist_left', 'camera_extrinsics.exterior_1_left', 'camera_extrinsics.exterior_2_left', 'is_episode_successful', 'timestamp', 'frame_index', 'episode_index', 'index', 'task_index']',\n",
       "})',"
      ]
     },
     "execution_count": 3,
     "metadata": {},
     "output_type": "execute_result"
    }
   ],
   "source": [
    "custom_converter.load_dataset()"
   ]
  },
  {
   "cell_type": "code",
   "execution_count": 4,
   "id": "6a50f42d",
   "metadata": {},
   "outputs": [
    {
     "name": "stderr",
     "output_type": "stream",
     "text": [
      "Converting episodes:   0%|          | 0/2 [00:00<?, ?it/s]"
     ]
    },
    {
     "name": "stdout",
     "output_type": "stream",
     "text": [
      "\n",
      "Processing episode 3 (frames: 239)\n"
     ]
    },
    {
     "name": "stderr",
     "output_type": "stream",
     "text": [
      "Converting episodes:  50%|█████     | 1/2 [00:02<00:02,  2.30s/it]"
     ]
    },
    {
     "name": "stdout",
     "output_type": "stream",
     "text": [
      "Saved episode 3 to data/custom_droid_features/episode_3.npy\n",
      "\n",
      "Processing episode 4 (frames: 370)\n"
     ]
    },
    {
     "name": "stderr",
     "output_type": "stream",
     "text": [
      "Converting episodes: 100%|██████████| 2/2 [00:05<00:00,  2.93s/it]"
     ]
    },
    {
     "name": "stdout",
     "output_type": "stream",
     "text": [
      "Saved episode 4 to data/custom_droid_features/episode_4.npy\n",
      "\n",
      "Successfully converted dataset to data/custom_droid_features\n"
     ]
    },
    {
     "name": "stderr",
     "output_type": "stream",
     "text": [
      "\n"
     ]
    }
   ],
   "source": [
    "\n",
    "custom_converter.convert_and_save()"
   ]
  },
  {
   "cell_type": "markdown",
   "id": "03d13c8d",
   "metadata": {},
   "source": [
    "### 2.1 then run the tfds build commands\n",
    "\n",
    "```bash\n",
    "cd rlds_dataset_builder/le_robot_to_rlds\n",
    "tfds build --overwrite\n",
    "```\n",
    "\n",
    "The results will be saved to `~/tensorflow_datasets/le_robot_to_rlds`. To visualize the results:\n",
    "\n",
    "```bash\n",
    "cd rlds_dataset_builder\n",
    "python3 visualize_dataset.py le_robot_to_rlds\n",
    "```"
   ]
  }
 ],
 "metadata": {
  "kernelspec": {
   "display_name": "lerobot",
   "language": "python",
   "name": "python3"
  },
  "language_info": {
   "codemirror_mode": {
    "name": "ipython",
    "version": 3
   },
   "file_extension": ".py",
   "mimetype": "text/x-python",
   "name": "python",
   "nbconvert_exporter": "python",
   "pygments_lexer": "ipython3",
   "version": "3.10.19"
  }
 },
 "nbformat": 4,
 "nbformat_minor": 5
}
